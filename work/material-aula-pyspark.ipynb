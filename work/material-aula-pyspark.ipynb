{
 "cells": [
  {
   "cell_type": "markdown",
   "id": "faeb2732-0d60-4a61-9442-ec508b89db75",
   "metadata": {},
   "source": [
    "# Deixa com a Gente\n",
    "\n",
    "Temos a nossa disposição alguns dados provenientes de um banco de dados qualquer relacionados ao preço de revenda de combustíveis, e para atender a demanda de analista e cientistas de dados precisamos realizar o tratamento destes dados de forma que possam ser facilmente utilizados pelos times e agilizar a produção de valor as áreas de negócio. Para isso utilizaremos o PySpark para preparar nossos dados."
   ]
  },
  {
   "cell_type": "markdown",
   "id": "e8416c02-a515-419b-8ed4-0d22124b8608",
   "metadata": {},
   "source": [
    "## Importando nossas Libraries"
   ]
  },
  {
   "cell_type": "code",
   "execution_count": 2,
   "id": "3b92ead9-aaaf-450c-8644-962a8686c2a0",
   "metadata": {},
   "outputs": [],
   "source": [
    "from pyspark.sql import SparkSession"
   ]
  },
  {
   "cell_type": "markdown",
   "id": "5280cc06-8d82-414b-b54b-2889d3c235aa",
   "metadata": {
    "tags": []
   },
   "source": [
    "## Spark Session\n",
    "\n",
    "A Spark Session pode ser definida como nosso mediador entre nossa spark application e as APIs e Libraries do Apache Spark, a mesma é responsável por unificar os diferentes contextos dentro do Spark em uma única abstração, facilitando em muito nosso trabalho"
   ]
  },
  {
   "cell_type": "code",
   "execution_count": null,
   "id": "303bf73b-dc23-47f2-a1fd-053173b02312",
   "metadata": {
    "tags": []
   },
   "outputs": [],
   "source": []
  },
  {
   "cell_type": "markdown",
   "id": "c712f3fb-cfcc-4076-9d8b-c6f7522fd784",
   "metadata": {},
   "source": [
    "# Lendo Dados com PySpark\n",
    "\n",
    "O Apache Spark, permite a leitura de dados das mais variadas fontes e formatos, possibilitando uma gama imensa de possibilidades de cruzamento de dados de diferentes fontes e seu respectivo tratamento. Dentre os principais formatos de arquivos suportados pelo Apache Spark com PySpark podemos citar:\n",
    "\n",
    "- CSV\n",
    "- Parquet\n",
    "- Json\n",
    "- ORC\n",
    "- Delta Tables (Com o uso de Delta Lake para Lakehouse)\n",
    "- Hudi Tables (Com o uso do Apache Hudi para Lakehouse)\n",
    "- JDBC Queries\n",
    "\n",
    "Além da infinidade de formatos de arquivos e dados suportados pelo Apache Spark com PySpark, também é importante nos atentarmos para as também flexíveis fontes de dados suportadas pelo framework, como por exemplo:\n",
    "\n",
    "- Local File Systems (Ou seja, o próprio sistema de arquivos de sua máquina pessoal);\n",
    "- Cloud Storage\n",
    "- AWS S3\n",
    "- Google Cloud File Store\n",
    "- Azure Blob Storage\n",
    "- Hadoop File System - HDFS\n",
    "- Bancos de Dados Relacionais (Como Oracle, MySQL, PostgreSQL)\n"
   ]
  },
  {
   "cell_type": "code",
   "execution_count": null,
   "id": "6e62a852-9c76-42d2-b81d-fdbb42655b90",
   "metadata": {},
   "outputs": [],
   "source": []
  },
  {
   "cell_type": "markdown",
   "id": "a521ddd1-949b-449e-92a6-7823612c9d43",
   "metadata": {},
   "source": [
    "# Dataframes e a SQL API"
   ]
  },
  {
   "cell_type": "code",
   "execution_count": null,
   "id": "80a489c4-a396-41a3-95a5-ff56905dcf7b",
   "metadata": {},
   "outputs": [],
   "source": []
  },
  {
   "cell_type": "markdown",
   "id": "838f70df-9b08-4089-a937-8e5cafae0c2f",
   "metadata": {},
   "source": [
    "# Selecionando Colunas com as expressões SELECT"
   ]
  },
  {
   "cell_type": "code",
   "execution_count": null,
   "id": "7be0d22b-086f-49b0-86ce-ccf1caa5ccd9",
   "metadata": {},
   "outputs": [],
   "source": []
  }
 ],
 "metadata": {
  "kernelspec": {
   "display_name": "Python 3 (ipykernel)",
   "language": "python",
   "name": "python3"
  },
  "language_info": {
   "codemirror_mode": {
    "name": "ipython",
    "version": 3
   },
   "file_extension": ".py",
   "mimetype": "text/x-python",
   "name": "python",
   "nbconvert_exporter": "python",
   "pygments_lexer": "ipython3",
   "version": "3.10.10"
  }
 },
 "nbformat": 4,
 "nbformat_minor": 5
}
